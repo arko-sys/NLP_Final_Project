{
 "cells": [
  {
   "cell_type": "code",
   "execution_count": 1,
   "metadata": {},
   "outputs": [
    {
     "name": "stderr",
     "output_type": "stream",
     "text": [
      "[nltk_data] Downloading package wordnet to /home/arko/nltk_data...\n",
      "[nltk_data]   Package wordnet is already up-to-date!\n"
     ]
    },
    {
     "data": {
      "text/plain": [
       "True"
      ]
     },
     "execution_count": 1,
     "metadata": {},
     "output_type": "execute_result"
    }
   ],
   "source": [
    "import nltk\n",
    "nltk.download('wordnet')"
   ]
  },
  {
   "cell_type": "code",
   "execution_count": 2,
   "metadata": {},
   "outputs": [],
   "source": [
    "import re\n",
    "import numpy as np\n",
    "import pandas as pd\n",
    "import string\n",
    "# plotting\n",
    "import seaborn as sns\n",
    "from wordcloud import WordCloud\n",
    "import matplotlib.pyplot as plt\n",
    "# nltk\n",
    "from nltk.tokenize import RegexpTokenizer\n",
    "from nltk.stem import WordNetLemmatizer\n",
    "# sklearn\n",
    "from sklearn.svm import LinearSVC\n",
    "from sklearn.naive_bayes import BernoulliNB\n",
    "from sklearn.linear_model import LogisticRegression\n",
    "from sklearn.model_selection import train_test_split\n",
    "from sklearn.feature_extraction.text import TfidfVectorizer\n",
    "from sklearn.metrics import confusion_matrix, classification_report\n"
   ]
  },
  {
   "cell_type": "code",
   "execution_count": 3,
   "metadata": {},
   "outputs": [],
   "source": [
    "reddit_data_extracted = pd.read_csv('../data_raw/reddit_rising.csv')"
   ]
  },
  {
   "cell_type": "code",
   "execution_count": 4,
   "metadata": {},
   "outputs": [
    {
     "data": {
      "text/html": [
       "<div>\n",
       "<style scoped>\n",
       "    .dataframe tbody tr th:only-of-type {\n",
       "        vertical-align: middle;\n",
       "    }\n",
       "\n",
       "    .dataframe tbody tr th {\n",
       "        vertical-align: top;\n",
       "    }\n",
       "\n",
       "    .dataframe thead th {\n",
       "        text-align: right;\n",
       "    }\n",
       "</style>\n",
       "<table border=\"1\" class=\"dataframe\">\n",
       "  <thead>\n",
       "    <tr style=\"text-align: right;\">\n",
       "      <th></th>\n",
       "      <th>team</th>\n",
       "      <th>title</th>\n",
       "      <th>selftext</th>\n",
       "      <th>comment</th>\n",
       "      <th>replies</th>\n",
       "    </tr>\n",
       "  </thead>\n",
       "  <tbody>\n",
       "    <tr>\n",
       "      <th>0</th>\n",
       "      <td>Arsenal</td>\n",
       "      <td>Gabriel celebrates scoring as Arsenal beat Spo...</td>\n",
       "      <td>NaN</td>\n",
       "      <td>https://preview.redd.it/1635kl3dib3e1.jpeg?wid...</td>\n",
       "      <td>haha, i like your art style</td>\n",
       "    </tr>\n",
       "    <tr>\n",
       "      <th>1</th>\n",
       "      <td>Arsenal</td>\n",
       "      <td>Gabriel celebrates scoring as Arsenal beat Spo...</td>\n",
       "      <td>NaN</td>\n",
       "      <td>Loved that from big Gabi, our Brazilian king i...</td>\n",
       "      <td>The guy just pure straight hates attacking pla...</td>\n",
       "    </tr>\n",
       "    <tr>\n",
       "      <th>2</th>\n",
       "      <td>Arsenal</td>\n",
       "      <td>Gabriel celebrates scoring as Arsenal beat Spo...</td>\n",
       "      <td>NaN</td>\n",
       "      <td>PUT IT ON A T-SHIRT\\n\\n![gif](giphy|3o8doT9BL7...</td>\n",
       "      <td>NaN</td>\n",
       "    </tr>\n",
       "    <tr>\n",
       "      <th>3</th>\n",
       "      <td>Arsenal</td>\n",
       "      <td>Gabriel celebrates scoring as Arsenal beat Spo...</td>\n",
       "      <td>NaN</td>\n",
       "      <td>An instant classic</td>\n",
       "      <td>NaN</td>\n",
       "    </tr>\n",
       "    <tr>\n",
       "      <th>4</th>\n",
       "      <td>Arsenal</td>\n",
       "      <td>Gabriel celebrates scoring as Arsenal beat Spo...</td>\n",
       "      <td>NaN</td>\n",
       "      <td>Haha i love this</td>\n",
       "      <td>NaN</td>\n",
       "    </tr>\n",
       "    <tr>\n",
       "      <th>...</th>\n",
       "      <td>...</td>\n",
       "      <td>...</td>\n",
       "      <td>...</td>\n",
       "      <td>...</td>\n",
       "      <td>...</td>\n",
       "    </tr>\n",
       "    <tr>\n",
       "      <th>12050</th>\n",
       "      <td>Southampton</td>\n",
       "      <td>Pre-Match Thread: Southampton FC Vs Liverpool</td>\n",
       "      <td>Kickoff: 2pm GMT</td>\n",
       "      <td>PAUL great to see you, how’s the weather up th...</td>\n",
       "      <td>NaN</td>\n",
       "    </tr>\n",
       "    <tr>\n",
       "      <th>12051</th>\n",
       "      <td>Southampton</td>\n",
       "      <td>Pre-Match Thread: Southampton FC Vs Liverpool</td>\n",
       "      <td>Kickoff: 2pm GMT</td>\n",
       "      <td>*\"Think you're the only struggling club out th...</td>\n",
       "      <td>NaN</td>\n",
       "    </tr>\n",
       "    <tr>\n",
       "      <th>12052</th>\n",
       "      <td>Southampton</td>\n",
       "      <td>Pre-Match Thread: Southampton FC Vs Liverpool</td>\n",
       "      <td>Kickoff: 2pm GMT</td>\n",
       "      <td>We appreciate your service.</td>\n",
       "      <td>I've even turned off notifications on the live...</td>\n",
       "    </tr>\n",
       "    <tr>\n",
       "      <th>12053</th>\n",
       "      <td>Southampton</td>\n",
       "      <td>Pre-Match Thread: Southampton FC Vs Liverpool</td>\n",
       "      <td>Kickoff: 2pm GMT</td>\n",
       "      <td>Yeah… according to Alfie House on the echo it’...</td>\n",
       "      <td>NaN</td>\n",
       "    </tr>\n",
       "    <tr>\n",
       "      <th>12054</th>\n",
       "      <td>Southampton</td>\n",
       "      <td>Pre-Match Thread: Southampton FC Vs Liverpool</td>\n",
       "      <td>Kickoff: 2pm GMT</td>\n",
       "      <td>I've even turned off notifications on the live...</td>\n",
       "      <td>NaN</td>\n",
       "    </tr>\n",
       "  </tbody>\n",
       "</table>\n",
       "<p>12055 rows × 5 columns</p>\n",
       "</div>"
      ],
      "text/plain": [
       "              team                                              title  \\\n",
       "0          Arsenal  Gabriel celebrates scoring as Arsenal beat Spo...   \n",
       "1          Arsenal  Gabriel celebrates scoring as Arsenal beat Spo...   \n",
       "2          Arsenal  Gabriel celebrates scoring as Arsenal beat Spo...   \n",
       "3          Arsenal  Gabriel celebrates scoring as Arsenal beat Spo...   \n",
       "4          Arsenal  Gabriel celebrates scoring as Arsenal beat Spo...   \n",
       "...            ...                                                ...   \n",
       "12050  Southampton     Pre-Match Thread: Southampton FC Vs Liverpool    \n",
       "12051  Southampton     Pre-Match Thread: Southampton FC Vs Liverpool    \n",
       "12052  Southampton     Pre-Match Thread: Southampton FC Vs Liverpool    \n",
       "12053  Southampton     Pre-Match Thread: Southampton FC Vs Liverpool    \n",
       "12054  Southampton     Pre-Match Thread: Southampton FC Vs Liverpool    \n",
       "\n",
       "                selftext                                            comment  \\\n",
       "0                    NaN  https://preview.redd.it/1635kl3dib3e1.jpeg?wid...   \n",
       "1                    NaN  Loved that from big Gabi, our Brazilian king i...   \n",
       "2                    NaN  PUT IT ON A T-SHIRT\\n\\n![gif](giphy|3o8doT9BL7...   \n",
       "3                    NaN                                 An instant classic   \n",
       "4                    NaN                                   Haha i love this   \n",
       "...                  ...                                                ...   \n",
       "12050  Kickoff: 2pm GMT   PAUL great to see you, how’s the weather up th...   \n",
       "12051  Kickoff: 2pm GMT   *\"Think you're the only struggling club out th...   \n",
       "12052  Kickoff: 2pm GMT                         We appreciate your service.   \n",
       "12053  Kickoff: 2pm GMT   Yeah… according to Alfie House on the echo it’...   \n",
       "12054  Kickoff: 2pm GMT   I've even turned off notifications on the live...   \n",
       "\n",
       "                                                 replies  \n",
       "0                            haha, i like your art style  \n",
       "1      The guy just pure straight hates attacking pla...  \n",
       "2                                                    NaN  \n",
       "3                                                    NaN  \n",
       "4                                                    NaN  \n",
       "...                                                  ...  \n",
       "12050                                                NaN  \n",
       "12051                                                NaN  \n",
       "12052  I've even turned off notifications on the live...  \n",
       "12053                                                NaN  \n",
       "12054                                                NaN  \n",
       "\n",
       "[12055 rows x 5 columns]"
      ]
     },
     "execution_count": 4,
     "metadata": {},
     "output_type": "execute_result"
    }
   ],
   "source": [
    "reddit_data_extracted"
   ]
  },
  {
   "cell_type": "code",
   "execution_count": 5,
   "metadata": {},
   "outputs": [],
   "source": [
    "reddit_data_extracted['clean_comment'] = reddit_data_extracted['comment'].fillna('')  # Replace NaN with an empty string\n",
    "reddit_data_extracted['clean_replies'] = reddit_data_extracted['replies'].fillna('')  # Replace NaN with an empty string"
   ]
  },
  {
   "cell_type": "code",
   "execution_count": 6,
   "metadata": {},
   "outputs": [],
   "source": [
    "reddit_data_extracted['combined'] = reddit_data_extracted['clean_comment'].fillna('') + ' ' + reddit_data_extracted['clean_replies'].fillna('')"
   ]
  },
  {
   "cell_type": "code",
   "execution_count": 11,
   "metadata": {},
   "outputs": [],
   "source": [
    "data = reddit_data_extracted[[\"team\", \"combined\"]]"
   ]
  },
  {
   "cell_type": "code",
   "execution_count": 12,
   "metadata": {},
   "outputs": [],
   "source": [
    "data.to_csv(\"../data_processed/reddit_rising.csv\")"
   ]
  },
  {
   "cell_type": "code",
   "execution_count": null,
   "metadata": {},
   "outputs": [],
   "source": []
  }
 ],
 "metadata": {
  "kernelspec": {
   "display_name": "venv",
   "language": "python",
   "name": "python3"
  },
  "language_info": {
   "codemirror_mode": {
    "name": "ipython",
    "version": 3
   },
   "file_extension": ".py",
   "mimetype": "text/x-python",
   "name": "python",
   "nbconvert_exporter": "python",
   "pygments_lexer": "ipython3",
   "version": "3.8.5"
  }
 },
 "nbformat": 4,
 "nbformat_minor": 2
}
